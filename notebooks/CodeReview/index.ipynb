{
 "cells": [
  {
   "cell_type": "code",
   "execution_count": 8,
   "metadata": {},
   "outputs": [],
   "source": [
    "import os\n",
    "\n",
    "from dotenv import load_dotenv\n",
    "\n",
    "load_dotenv()\n",
    "\n",
    "os.environ['OPENAI_API_KEY'] = os.getenv('OPENAI_API_KEY')"
   ]
  },
  {
   "cell_type": "code",
   "execution_count": 9,
   "metadata": {},
   "outputs": [],
   "source": [
    "from langchain_text_splitters import Language, RecursiveCharacterTextSplitter\n",
    "from langchain_openai import OpenAIEmbeddings, ChatOpenAI\n",
    "from langchain_chroma import Chroma\n",
    "from langchain_community.document_loaders.generic import GenericLoader\n",
    "from langchain_community.document_loaders.parsers import LanguageParser\n",
    "from langchain_core.prompts import ChatPromptTemplate\n",
    "from langchain.chains import create_retrieval_chain\n",
    "from langchain.chains.combine_documents import create_stuff_documents_chain\n",
    "\n",
    "from git import Repo"
   ]
  },
  {
   "cell_type": "code",
   "execution_count": 10,
   "metadata": {},
   "outputs": [],
   "source": [
    "repo_path = './test_repo'"
   ]
  },
  {
   "cell_type": "code",
   "execution_count": 11,
   "metadata": {},
   "outputs": [],
   "source": [
    "repo = Repo.clone_from('https://github.com/openai-php/client', to_path=repo_path)"
   ]
  },
  {
   "cell_type": "code",
   "execution_count": 12,
   "metadata": {},
   "outputs": [
    {
     "data": {
      "text/plain": [
       "22"
      ]
     },
     "execution_count": 12,
     "metadata": {},
     "output_type": "execute_result"
    }
   ],
   "source": [
    "loader = GenericLoader.from_filesystem(\n",
    "  repo_path + '/src/Resources/',\n",
    "  glob='**/*',\n",
    "  suffixes=['.php'],\n",
    "  exclude=['!non-php'],\n",
    "  parser=LanguageParser(Language.PHP, parser_threshold=500)\n",
    ")\n",
    "\n",
    "documents = loader.load()\n",
    "len(documents)\n"
   ]
  },
  {
   "cell_type": "code",
   "execution_count": 13,
   "metadata": {},
   "outputs": [
    {
     "data": {
      "text/plain": [
       "58"
      ]
     },
     "execution_count": 13,
     "metadata": {},
     "output_type": "execute_result"
    }
   ],
   "source": [
    "python_splitter = RecursiveCharacterTextSplitter.from_language(\n",
    "  Language.PHP, \n",
    "  chunk_size=2000,\n",
    "  chunk_overlap=200\n",
    ")\n",
    "\n",
    "texts = python_splitter.split_documents(documents)\n",
    "len(texts)"
   ]
  },
  {
   "cell_type": "code",
   "execution_count": 14,
   "metadata": {},
   "outputs": [],
   "source": [
    "db = Chroma.from_documents(texts, OpenAIEmbeddings(disallowed_special=()))\n",
    "\n",
    "retriever = db.as_retriever(\n",
    "  search_types='mmr',\n",
    "  search_kwargs={'k': 8}\n",
    ")"
   ]
  },
  {
   "cell_type": "code",
   "execution_count": 15,
   "metadata": {},
   "outputs": [],
   "source": [
    "llm = ChatOpenAI(model='gpt-3.5-turbo', max_tokens=200)"
   ]
  },
  {
   "cell_type": "code",
   "execution_count": 16,
   "metadata": {},
   "outputs": [],
   "source": [
    "prompt = ChatPromptTemplate.from_messages(\n",
    "  [\n",
    "    (\n",
    "      'system',\n",
    "      '''\n",
    "      Você é um revisor de código experiente. \n",
    "      Forneça informações detalhadas sobre a revisão do código e sugestões de melhorias \n",
    "      baseado no contexto fornecido abaixo: \\n\\n {context}\n",
    "      '''\n",
    "    ),\n",
    "    (\n",
    "      'user',\n",
    "      '{input}'\n",
    "    )\n",
    "  ]\n",
    ")\n",
    "\n",
    "document_chain = create_stuff_documents_chain(\n",
    "  llm, prompt\n",
    ")\n",
    "\n",
    "retrieval_chain = create_retrieval_chain(retriever, document_chain)"
   ]
  },
  {
   "cell_type": "code",
   "execution_count": 17,
   "metadata": {},
   "outputs": [],
   "source": [
    "response = retrieval_chain.invoke(\n",
    "  {'input': 'Você pode revisar e sugerir melhorias para o código de HttpTransporter?'}\n",
    ")"
   ]
  },
  {
   "cell_type": "code",
   "execution_count": 18,
   "metadata": {},
   "outputs": [
    {
     "name": "stdout",
     "output_type": "stream",
     "text": [
      "### Revisão do código de HttpTransporter:\n",
      "\n",
      "1. **Método `requestContent`**:\n",
      "   - O método `requestContent` parece não estar completo. Não está claro o que ele deve fazer, pois não há documentação ou implementação do retorno.\n",
      "   - Sugiro adicionar documentação detalhada sobre o propósito e o comportamento esperado do método.\n",
      "   - Verifique se o método está implementado corretamente de acordo com a lógica desejada.\n",
      "\n",
      "2. **Método `upload`**:\n",
      "   - No método `upload`, a chamada para criar um novo `CreateResponse` está bem estruturada e clara.\n",
      "   - No entanto, sugiro adicionar mais comentários explicativos sobre o que está sendo feito em cada etapa do método para facilitar a compreensão.\n",
      "\n",
      "3. **Método `delete`**:\n",
      "   - O método `delete` está bem\n"
     ]
    }
   ],
   "source": [
    "print(response['answer'])"
   ]
  }
 ],
 "metadata": {
  "kernelspec": {
   "display_name": ".venv",
   "language": "python",
   "name": "python3"
  },
  "language_info": {
   "codemirror_mode": {
    "name": "ipython",
    "version": 3
   },
   "file_extension": ".py",
   "mimetype": "text/x-python",
   "name": "python",
   "nbconvert_exporter": "python",
   "pygments_lexer": "ipython3",
   "version": "3.11.0"
  }
 },
 "nbformat": 4,
 "nbformat_minor": 2
}
