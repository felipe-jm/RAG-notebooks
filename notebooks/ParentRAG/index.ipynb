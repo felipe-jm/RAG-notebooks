{
 "cells": [
  {
   "cell_type": "code",
   "execution_count": 42,
   "metadata": {},
   "outputs": [],
   "source": [
    "import os\n",
    "\n",
    "from dotenv import load_dotenv\n",
    "\n",
    "load_dotenv()\n",
    "\n",
    "os.environ['OPENAI_API_KEY'] = os.getenv('OPENAI_API_KEY')"
   ]
  },
  {
   "cell_type": "code",
   "execution_count": 43,
   "metadata": {},
   "outputs": [],
   "source": [
    "from langchain_text_splitters import RecursiveCharacterTextSplitter\n",
    "from langchain_openai import OpenAIEmbeddings, ChatOpenAI\n",
    "from langchain_chroma import Chroma\n",
    "from langchain_community.document_loaders import PyPDFLoader\n",
    "from langchain_core.prompts import ChatPromptTemplate\n",
    "\n",
    "from langchain_core.runnables import RunnablePassthrough, RunnableParallel\n",
    "from langchain_core.output_parsers import StrOutputParser\n",
    "\n",
    "from langchain.retrievers import ParentDocumentRetriever\n",
    "from langchain.storage import InMemoryStore"
   ]
  },
  {
   "cell_type": "code",
   "execution_count": 44,
   "metadata": {},
   "outputs": [],
   "source": [
    "embedding = OpenAIEmbeddings(model=\"text-embedding-ada-002\")\n",
    "llm = ChatOpenAI(model=\"gpt-3.5-turbo\", max_tokens=500)"
   ]
  },
  {
   "cell_type": "code",
   "execution_count": 45,
   "metadata": {},
   "outputs": [
    {
     "data": {
      "text/plain": [
       "8"
      ]
     },
     "execution_count": 45,
     "metadata": {},
     "output_type": "execute_result"
    }
   ],
   "source": [
    "# Carregar o PDF\n",
    "\n",
    "pdf_link = './weight-loss.pdf'\n",
    "\n",
    "loader = PyPDFLoader(pdf_link, extract_images=False)\n",
    "\n",
    "pages = loader.load_and_split()\n",
    "\n",
    "len(pages)"
   ]
  },
  {
   "cell_type": "code",
   "execution_count": 46,
   "metadata": {},
   "outputs": [],
   "source": [
    "# Splitter\n",
    "child_splitter = RecursiveCharacterTextSplitter(\n",
    "  chunk_size=200,\n",
    ")\n",
    "\n",
    "parent_splitter = RecursiveCharacterTextSplitter(\n",
    "  chunk_size=4000,\n",
    "  chunk_overlap=200,\n",
    "  length_function=len,\n",
    "  add_start_index=True,\n",
    ")"
   ]
  },
  {
   "cell_type": "code",
   "execution_count": 47,
   "metadata": {},
   "outputs": [],
   "source": [
    "# Storages\n",
    "store = InMemoryStore()\n",
    "vectorstore = Chroma(\n",
    "  embedding_function=embedding,\n",
    "  persist_directory='childVectorDB',\n",
    ")"
   ]
  },
  {
   "cell_type": "code",
   "execution_count": 48,
   "metadata": {},
   "outputs": [],
   "source": [
    "parent_document_retriever = ParentDocumentRetriever(\n",
    "  vectorstore=vectorstore,\n",
    "  docstore=store,\n",
    "  child_splitter=child_splitter,\n",
    "  parent_splitter=parent_splitter\n",
    ")\n",
    "\n",
    "parent_document_retriever.add_documents(pages, ids=None)"
   ]
  },
  {
   "cell_type": "code",
   "execution_count": 51,
   "metadata": {},
   "outputs": [],
   "source": [
    "TEMPLATE = \"\"\"\n",
    "  Você é um especialista em nutrição e saúde. Sua tarefa é responder perguntas sobre o documento fornecido.\n",
    "  Se a pergunta do usuário não está relacionada ao documento, responda que não sabe.\n",
    "\n",
    "  Documento:\n",
    "  {context}\n",
    "\n",
    "  Pergunta:\n",
    "  {question}\n",
    "\"\"\"\n",
    "\n",
    "rag_prompt = ChatPromptTemplate.from_template(\n",
    "  TEMPLATE,\n",
    ")\n"
   ]
  },
  {
   "cell_type": "code",
   "execution_count": 52,
   "metadata": {},
   "outputs": [],
   "source": [
    "setup_retrieval = RunnableParallel({\n",
    "  'question': RunnablePassthrough(),\n",
    "  'context': parent_document_retriever\n",
    "})\n",
    "\n",
    "output_parser = StrOutputParser()"
   ]
  },
  {
   "cell_type": "code",
   "execution_count": 53,
   "metadata": {},
   "outputs": [],
   "source": [
    "parent_chain_retrieval = setup_retrieval | rag_prompt | llm | output_parser"
   ]
  },
  {
   "cell_type": "code",
   "execution_count": 54,
   "metadata": {},
   "outputs": [
    {
     "data": {
      "text/plain": [
       "'Para perder peso de forma rápida e saudável, é importante seguir algumas diretrizes, como as fornecidas no documento mencionado. Algumas dicas incluem:\\n\\n1. Consumir menos calorias do que você queima através da dieta e da atividade física.\\n2. Aumentar a atividade física enquanto limita a ingestão de calorias para aumentar a taxa de perda de peso.\\n3. Manter um diário de alimentos e atividades físicas.\\n4. Não pular refeições, especialmente o café da manhã.\\n5. Planejar as refeições e comer em horários regulares.\\n6. Escolher alimentos ricos em proteínas e fibras, e limitar a ingestão de gordura e açúcar.\\n7. Evitar alimentos problemáticos que possam levar a excessos.\\n8. Beber bastante líquido, preferencialmente bebidas sem calorias e cafeína.\\n9. Dormir adequadamente todas as noites, entre 7-9 horas.\\n\\nSeguir essas diretrizes, juntamente com a orientação de um nutricionista, pode ajudar na perda de peso de forma saudável e sustentável.'"
      ]
     },
     "execution_count": 54,
     "metadata": {},
     "output_type": "execute_result"
    }
   ],
   "source": [
    "parent_chain_retrieval.invoke('Como perder peso de maneira rápida e saudável?')"
   ]
  }
 ],
 "metadata": {
  "kernelspec": {
   "display_name": ".venv",
   "language": "python",
   "name": "python3"
  },
  "language_info": {
   "codemirror_mode": {
    "name": "ipython",
    "version": 3
   },
   "file_extension": ".py",
   "mimetype": "text/x-python",
   "name": "python",
   "nbconvert_exporter": "python",
   "pygments_lexer": "ipython3",
   "version": "3.11.0"
  }
 },
 "nbformat": 4,
 "nbformat_minor": 2
}
