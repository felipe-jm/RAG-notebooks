{
 "cells": [
  {
   "cell_type": "code",
   "execution_count": 30,
   "metadata": {},
   "outputs": [],
   "source": [
    "import os\n",
    "\n",
    "from dotenv import load_dotenv\n",
    "\n",
    "load_dotenv()\n",
    "\n",
    "os.environ['OPENAI_API_KEY'] = os.getenv('OPENAI_API_KEY')\n",
    "os.environ['COHERE_API_KEY'] = os.getenv('COHERE_API_KEY')"
   ]
  },
  {
   "cell_type": "code",
   "execution_count": 31,
   "metadata": {},
   "outputs": [],
   "source": [
    "from langchain_text_splitters import RecursiveCharacterTextSplitter\n",
    "from langchain_openai import OpenAIEmbeddings, ChatOpenAI\n",
    "from langchain_chroma import Chroma\n",
    "from langchain_community.document_loaders import PyPDFLoader\n",
    "from langchain_core.prompts import ChatPromptTemplate\n",
    "\n",
    "from langchain_core.runnables import RunnablePassthrough, RunnableParallel\n",
    "from langchain_core.output_parsers import StrOutputParser\n",
    "\n",
    "from langchain.retrievers.contextual_compression import ContextualCompressionRetriever\n",
    "from langchain_cohere import CohereRerank"
   ]
  },
  {
   "cell_type": "code",
   "execution_count": 32,
   "metadata": {},
   "outputs": [],
   "source": [
    "# Carregar modelos Open AI - Embeddings e Chat\n",
    "embeddings_model = OpenAIEmbeddings(model='text-embedding-ada-002')\n",
    "llm = ChatOpenAI(model='gpt-3.5-turbo', max_tokens=300)"
   ]
  },
  {
   "cell_type": "code",
   "execution_count": 33,
   "metadata": {},
   "outputs": [
    {
     "data": {
      "text/plain": [
       "8"
      ]
     },
     "execution_count": 33,
     "metadata": {},
     "output_type": "execute_result"
    }
   ],
   "source": [
    "# Carregar o PDF\n",
    "pdf_link = '../../pdfs/weight-loss.pdf'\n",
    "\n",
    "loader = PyPDFLoader(pdf_link, extract_images=False)\n",
    "\n",
    "pages = loader.load_and_split()\n",
    "\n",
    "len(pages)"
   ]
  },
  {
   "cell_type": "code",
   "execution_count": 34,
   "metadata": {},
   "outputs": [],
   "source": [
    "# Separar em chunks\n",
    "text_splitter = RecursiveCharacterTextSplitter(\n",
    "  chunk_size=4000,\n",
    "  chunk_overlap=20,\n",
    "  length_function=len,\n",
    "  add_start_index=True,\n",
    ")\n",
    "\n",
    "chunks = text_splitter.split_documents(pages)"
   ]
  },
  {
   "cell_type": "code",
   "execution_count": 35,
   "metadata": {},
   "outputs": [],
   "source": [
    "# Salvar os chunks no Vector DB\n",
    "vectordb = Chroma.from_documents(\n",
    "  chunks,\n",
    "  embedding=embeddings_model,\n",
    "  persist_directory='naiveDB',\n",
    ")"
   ]
  },
  {
   "cell_type": "code",
   "execution_count": 36,
   "metadata": {},
   "outputs": [],
   "source": [
    "# Carregar o DB\n",
    "naive_retriever = vectordb.as_retriever(search_kwargs={'k': 10})"
   ]
  },
  {
   "cell_type": "code",
   "execution_count": 37,
   "metadata": {},
   "outputs": [],
   "source": [
    "# Criar o reranker\n",
    "reranker = CohereRerank(\n",
    "  top_n=3,\n",
    "  model='rerank-multilingual-v3.0',\n",
    ")\n",
    "\n",
    "compressor_retriever = ContextualCompressionRetriever(\n",
    "  base_compressor=reranker,\n",
    "  base_retriever=naive_retriever,\n",
    ")"
   ]
  },
  {
   "cell_type": "code",
   "execution_count": 38,
   "metadata": {},
   "outputs": [],
   "source": [
    "TEMPLATE = \"\"\"\n",
    "  Você é um especialista em nutrição e saúde. Sua tarefa é responder perguntas sobre o documento fornecido.\n",
    "  Se a pergunta do usuário não está relacionada ao documento, responda que não sabe.\n",
    "\n",
    "  Documento:\n",
    "  {context}\n",
    "\n",
    "  Pergunta:\n",
    "  {question}\n",
    "\"\"\"\n",
    "\n",
    "rag_prompt = ChatPromptTemplate.from_template(TEMPLATE)"
   ]
  },
  {
   "cell_type": "code",
   "execution_count": 39,
   "metadata": {},
   "outputs": [],
   "source": [
    "setup_retrieval = RunnableParallel(\n",
    "  {\n",
    "    'question': RunnablePassthrough(),\n",
    "    'context': compressor_retriever\n",
    "  },\n",
    ")\n",
    "\n",
    "output_parser = StrOutputParser()\n",
    "\n",
    "compressor_retrieval_chain = setup_retrieval | rag_prompt | llm | output_parser"
   ]
  },
  {
   "cell_type": "code",
   "execution_count": 40,
   "metadata": {},
   "outputs": [
    {
     "data": {
      "text/plain": [
       "'A perda de peso saudável deve ocorrer quando você consome menos calorias do que queima. Aumentar a atividade física enquanto limita a ingestão de calorias aumentará sua taxa de perda de peso. Além disso, aumentar a atividade física também ajudará a manter seu peso após a perda de peso. É importante discutir os níveis adequados de calorias e tamanhos de porções com seu nutricionista. Além disso, seguir as diretrizes fornecidas no documento, como manter um diário alimentar e de atividades físicas, pesar-se uma vez por semana, comer devagar, escolher alimentos com menos gordura e açúcar, e beber bastante líquido são dicas importantes para perder peso de maneira saudável e eficaz.'"
      ]
     },
     "execution_count": 40,
     "metadata": {},
     "output_type": "execute_result"
    }
   ],
   "source": [
    "compressor_retrieval_chain.invoke('Como perder peso de maneira rápida e saudável?')"
   ]
  }
 ],
 "metadata": {
  "kernelspec": {
   "display_name": ".venv",
   "language": "python",
   "name": "python3"
  },
  "language_info": {
   "codemirror_mode": {
    "name": "ipython",
    "version": 3
   },
   "file_extension": ".py",
   "mimetype": "text/x-python",
   "name": "python",
   "nbconvert_exporter": "python",
   "pygments_lexer": "ipython3",
   "version": "3.11.0"
  }
 },
 "nbformat": 4,
 "nbformat_minor": 2
}
