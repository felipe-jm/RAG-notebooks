{
 "cells": [
  {
   "cell_type": "code",
   "execution_count": 1,
   "metadata": {},
   "outputs": [],
   "source": [
    "import os\n",
    "\n",
    "from dotenv import load_dotenv\n",
    "\n",
    "load_dotenv()\n",
    "\n",
    "os.environ['OPENAI_API_KEY'] = os.getenv('OPENAI_API_KEY')"
   ]
  },
  {
   "cell_type": "code",
   "execution_count": 2,
   "metadata": {},
   "outputs": [],
   "source": [
    "from langchain_text_splitters import RecursiveCharacterTextSplitter\n",
    "from langchain_openai import OpenAIEmbeddings, ChatOpenAI\n",
    "from langchain_chroma import Chroma\n",
    "from langchain_community.document_loaders import PyPDFLoader\n",
    "from langchain_core.prompts import ChatPromptTemplate\n",
    "\n",
    "from langchain_core.runnables import RunnablePassthrough, RunnableParallel\n",
    "from langchain_core.output_parsers import StrOutputParser\n",
    "\n",
    "from langchain.retrievers import ParentDocumentRetriever\n",
    "from langchain.storage import InMemoryStore"
   ]
  },
  {
   "cell_type": "code",
   "execution_count": 3,
   "metadata": {},
   "outputs": [],
   "source": [
    "embedding = OpenAIEmbeddings(model=\"text-embedding-ada-002\")\n",
    "llm = ChatOpenAI(model=\"gpt-3.5-turbo\", max_tokens=500)"
   ]
  },
  {
   "cell_type": "code",
   "execution_count": 4,
   "metadata": {},
   "outputs": [
    {
     "data": {
      "text/plain": [
       "8"
      ]
     },
     "execution_count": 4,
     "metadata": {},
     "output_type": "execute_result"
    }
   ],
   "source": [
    "# Carregar o PDF\n",
    "pdf_link = '../../pdfs/weight-loss.pdf'\n",
    "\n",
    "loader = PyPDFLoader(pdf_link, extract_images=False)\n",
    "\n",
    "pages = loader.load_and_split()\n",
    "\n",
    "len(pages)"
   ]
  },
  {
   "cell_type": "code",
   "execution_count": 5,
   "metadata": {},
   "outputs": [],
   "source": [
    "# Splitter\n",
    "child_splitter = RecursiveCharacterTextSplitter(\n",
    "  chunk_size=200,\n",
    ")\n",
    "\n",
    "parent_splitter = RecursiveCharacterTextSplitter(\n",
    "  chunk_size=4000,\n",
    "  chunk_overlap=200,\n",
    "  length_function=len,\n",
    "  add_start_index=True,\n",
    ")"
   ]
  },
  {
   "cell_type": "code",
   "execution_count": 6,
   "metadata": {},
   "outputs": [],
   "source": [
    "# Storages\n",
    "store = InMemoryStore()\n",
    "vectorstore = Chroma(\n",
    "  embedding_function=embedding,\n",
    "  persist_directory='childVectorDB',\n",
    ")"
   ]
  },
  {
   "cell_type": "code",
   "execution_count": 7,
   "metadata": {},
   "outputs": [],
   "source": [
    "parent_document_retriever = ParentDocumentRetriever(\n",
    "  vectorstore=vectorstore,\n",
    "  docstore=store,\n",
    "  child_splitter=child_splitter,\n",
    "  parent_splitter=parent_splitter\n",
    ")\n",
    "\n",
    "parent_document_retriever.add_documents(pages, ids=None)"
   ]
  },
  {
   "cell_type": "code",
   "execution_count": 8,
   "metadata": {},
   "outputs": [],
   "source": [
    "TEMPLATE = \"\"\"\n",
    "  Você é um especialista em nutrição e saúde. Sua tarefa é responder perguntas sobre o documento fornecido.\n",
    "  Se a pergunta do usuário não está relacionada ao documento, responda que não sabe.\n",
    "\n",
    "  Documento:\n",
    "  {context}\n",
    "\n",
    "  Pergunta:\n",
    "  {question}\n",
    "\"\"\"\n",
    "\n",
    "rag_prompt = ChatPromptTemplate.from_template(\n",
    "  TEMPLATE,\n",
    ")\n"
   ]
  },
  {
   "cell_type": "code",
   "execution_count": 9,
   "metadata": {},
   "outputs": [],
   "source": [
    "setup_retrieval = RunnableParallel({\n",
    "  'question': RunnablePassthrough(),\n",
    "  'context': parent_document_retriever\n",
    "})\n",
    "\n",
    "output_parser = StrOutputParser()"
   ]
  },
  {
   "cell_type": "code",
   "execution_count": 10,
   "metadata": {},
   "outputs": [],
   "source": [
    "parent_chain_retrieval = setup_retrieval | rag_prompt | llm | output_parser"
   ]
  },
  {
   "cell_type": "code",
   "execution_count": 11,
   "metadata": {},
   "outputs": [
    {
     "data": {
      "text/plain": [
       "'Para perder peso de maneira rápida e saudável, é importante consumir menos calorias do que você queima. Aumentar a atividade física enquanto limita a ingestão de calorias pode acelerar a perda de peso. Além disso, é essencial manter um registro escrito da alimentação e da atividade física, pesar-se uma vez por semana no mesmo horário e com a mesma quantidade de roupa, e seguir outras diretrizes como comer devagar, priorizar alimentos ricos em proteínas, ler rótulos de alimentos, evitar alimentos ricos em gordura e açúcar, e controlar as porções. É fundamental discutir níveis adequados de calorias e tamanhos de porções com um nutricionista para um plano personalizado.'"
      ]
     },
     "execution_count": 11,
     "metadata": {},
     "output_type": "execute_result"
    }
   ],
   "source": [
    "parent_chain_retrieval.invoke('Como perder peso de maneira rápida e saudável?')"
   ]
  }
 ],
 "metadata": {
  "kernelspec": {
   "display_name": ".venv",
   "language": "python",
   "name": "python3"
  },
  "language_info": {
   "codemirror_mode": {
    "name": "ipython",
    "version": 3
   },
   "file_extension": ".py",
   "mimetype": "text/x-python",
   "name": "python",
   "nbconvert_exporter": "python",
   "pygments_lexer": "ipython3",
   "version": "3.11.0"
  }
 },
 "nbformat": 4,
 "nbformat_minor": 2
}
